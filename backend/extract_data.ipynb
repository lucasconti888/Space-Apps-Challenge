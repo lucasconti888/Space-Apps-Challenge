{
 "cells": [
  {
   "cell_type": "code",
   "execution_count": 1,
   "id": "7aaa1912",
   "metadata": {},
   "outputs": [
    {
     "name": "stderr",
     "output_type": "stream",
     "text": [
      "C:\\Users\\andre\\AppData\\Local\\Packages\\PythonSoftwareFoundation.Python.3.13_qbz5n2kfra8p0\\LocalCache\\local-packages\\Python313\\site-packages\\tqdm\\auto.py:21: TqdmWarning: IProgress not found. Please update jupyter and ipywidgets. See https://ipywidgets.readthedocs.io/en/stable/user_install.html\n",
      "  from .autonotebook import tqdm as notebook_tqdm\n"
     ]
    }
   ],
   "source": [
    "import earthaccess\n",
    "import xarray as xr\n",
    "import pandas as pd\n",
    "import numpy as np\n",
    "from datetime import datetime, timedelta\n",
    "from dotenv import load_dotenv\n",
    "import google.generativeai as genai\n",
    "import os"
   ]
  },
  {
   "cell_type": "code",
   "execution_count": 2,
   "id": "9aa49539",
   "metadata": {},
   "outputs": [
    {
     "data": {
      "text/plain": [
       "True"
      ]
     },
     "execution_count": 2,
     "metadata": {},
     "output_type": "execute_result"
    }
   ],
   "source": [
    "# Carregar variaveis de ambiente\n",
    "load_dotenv()"
   ]
  },
  {
   "cell_type": "code",
   "execution_count": 3,
   "id": "3179a783",
   "metadata": {},
   "outputs": [],
   "source": [
    "# Vai abrir prompt para login (usuário e senha do Earthdata)\n",
    "auth = earthaccess.login(strategy=\"environment\")"
   ]
  },
  {
   "cell_type": "code",
   "execution_count": 4,
   "id": "44c3cdb8",
   "metadata": {},
   "outputs": [],
   "source": [
    "def get_history_json(hour: int, day: int, month: int, lat: float, lon: float):\n",
    "    \"\"\"\n",
    "    Busca o mesmo horário/dia/mês nos últimos 5 anos válidos (respeitando o limite 2025-06)\n",
    "    e retorna JSON compacto com as principais variáveis meteorológicas convertidas.\n",
    "    Inclui precipitação de neve.\n",
    "    \"\"\"\n",
    "    start_year = 2025 if month < 6 else 2024\n",
    "    years = list(range(start_year, start_year - 5, -1))  # ex: [2025, 2024, 2023, 2022, 2021]\n",
    "\n",
    "    fs = earthaccess.get_fsspec_https_session()\n",
    "    output = []\n",
    "\n",
    "    # Variáveis de interesse e conversões\n",
    "    vars_map = {\n",
    "        \"temperatura_ar\": (\"Tair_f_inst\", lambda v: v - 273.15),         # K → °C\n",
    "        \"precipitacao\": (\"Rainf_f_tavg\", lambda v: v * 3600),           # kg/m²/s → mm/h\n",
    "        \"neve\": (\"Snowf_tavg\", lambda v: v * 3600),                     # kg/m²/s → mm/h\n",
    "        \"vento\": (\"Wind_f_inst\", lambda v: v),                          # m/s\n",
    "        \"radiacao_solar\": (\"SWdown_f_tavg\", lambda v: v),               # W/m²\n",
    "        \"umidade_do_ar\": (\"Qair_f_inst\", lambda v: v * 1000),           # kg/kg → g/kg\n",
    "        \"umidade_do_solo\": (\"SoilMoi0_10cm_inst\", lambda v: v),         # kg/m²\n",
    "    }\n",
    "\n",
    "    def get_scalar(ds, var):\n",
    "        try:\n",
    "            return float(np.asarray(ds[var].values).squeeze())\n",
    "        except Exception:\n",
    "            return np.nan\n",
    "\n",
    "    for year in years:\n",
    "        try:\n",
    "            start_dt = datetime(year, month, day, hour)\n",
    "            end_dt = start_dt + timedelta(hours=2)\n",
    "\n",
    "            results = earthaccess.search_data(\n",
    "                short_name=\"GLDAS_NOAH025_3H\",\n",
    "                version=\"2.1\",\n",
    "                temporal=(start_dt.isoformat(), end_dt.isoformat())\n",
    "            )\n",
    "            if not results:\n",
    "                print(f\"⚠️ Nenhum arquivo em {year}-{month:02d}-{day:02d} {hour:02d}h\")\n",
    "                continue\n",
    "\n",
    "            ds = xr.open_dataset(fs.open(results[0].data_links()[0], mode=\"rb\"))\n",
    "            p = ds.sel(lat=lat, lon=lon, method=\"nearest\")\n",
    "\n",
    "            rec = {\"year\": year}\n",
    "            for key, (var, conv) in vars_map.items():\n",
    "                val = get_scalar(p, var)\n",
    "                rec[key] = round(conv(val), 3) if np.isfinite(val) else None\n",
    "\n",
    "            output.append(rec)\n",
    "            print(f\"✅ {year}: dados coletados\")\n",
    "\n",
    "        except Exception as e:\n",
    "            print(f\"❌ Erro {year}: {e}\")\n",
    "            continue\n",
    "\n",
    "    if not output:\n",
    "        raise ValueError(\"Nenhum dado retornado para o histórico solicitado.\")\n",
    "\n",
    "    return {\n",
    "        \"lat\": float(p.lat.values),\n",
    "        \"lon\": float(p.lon.values),\n",
    "        \"dados\": output\n",
    "    }\n"
   ]
  },
  {
   "cell_type": "code",
   "execution_count": 9,
   "id": "e7287bc8",
   "metadata": {},
   "outputs": [
    {
     "name": "stdout",
     "output_type": "stream",
     "text": [
      "✅ 2024: dados coletados\n",
      "✅ 2023: dados coletados\n",
      "✅ 2022: dados coletados\n",
      "✅ 2021: dados coletados\n",
      "✅ 2020: dados coletados\n"
     ]
    }
   ],
   "source": [
    "data_json = get_history_json(hour=12, day=5, month=10, lat=-22.90, lon=-43.20)"
   ]
  },
  {
   "cell_type": "code",
   "execution_count": 10,
   "id": "f8dec5a4",
   "metadata": {},
   "outputs": [
    {
     "data": {
      "text/html": [
       "<div>\n",
       "<style scoped>\n",
       "    .dataframe tbody tr th:only-of-type {\n",
       "        vertical-align: middle;\n",
       "    }\n",
       "\n",
       "    .dataframe tbody tr th {\n",
       "        vertical-align: top;\n",
       "    }\n",
       "\n",
       "    .dataframe thead th {\n",
       "        text-align: right;\n",
       "    }\n",
       "</style>\n",
       "<table border=\"1\" class=\"dataframe\">\n",
       "  <thead>\n",
       "    <tr style=\"text-align: right;\">\n",
       "      <th></th>\n",
       "      <th>year</th>\n",
       "      <th>temperatura_ar</th>\n",
       "      <th>precipitacao</th>\n",
       "      <th>neve</th>\n",
       "      <th>vento</th>\n",
       "      <th>radiacao_solar</th>\n",
       "      <th>umidade_do_ar</th>\n",
       "      <th>umidade_do_solo</th>\n",
       "    </tr>\n",
       "  </thead>\n",
       "  <tbody>\n",
       "    <tr>\n",
       "      <th>0</th>\n",
       "      <td>2024</td>\n",
       "      <td>20.170</td>\n",
       "      <td>0.000</td>\n",
       "      <td>0.0</td>\n",
       "      <td>3.156</td>\n",
       "      <td>323.479</td>\n",
       "      <td>11.368</td>\n",
       "      <td>30.950</td>\n",
       "    </tr>\n",
       "    <tr>\n",
       "      <th>1</th>\n",
       "      <td>2023</td>\n",
       "      <td>25.783</td>\n",
       "      <td>0.419</td>\n",
       "      <td>0.0</td>\n",
       "      <td>0.504</td>\n",
       "      <td>161.660</td>\n",
       "      <td>16.513</td>\n",
       "      <td>38.571</td>\n",
       "    </tr>\n",
       "    <tr>\n",
       "      <th>2</th>\n",
       "      <td>2022</td>\n",
       "      <td>20.642</td>\n",
       "      <td>0.000</td>\n",
       "      <td>0.0</td>\n",
       "      <td>1.107</td>\n",
       "      <td>198.370</td>\n",
       "      <td>13.480</td>\n",
       "      <td>35.340</td>\n",
       "    </tr>\n",
       "    <tr>\n",
       "      <th>3</th>\n",
       "      <td>2021</td>\n",
       "      <td>22.052</td>\n",
       "      <td>1.079</td>\n",
       "      <td>0.0</td>\n",
       "      <td>1.502</td>\n",
       "      <td>165.170</td>\n",
       "      <td>14.828</td>\n",
       "      <td>38.695</td>\n",
       "    </tr>\n",
       "    <tr>\n",
       "      <th>4</th>\n",
       "      <td>2020</td>\n",
       "      <td>25.236</td>\n",
       "      <td>0.000</td>\n",
       "      <td>0.0</td>\n",
       "      <td>1.805</td>\n",
       "      <td>227.050</td>\n",
       "      <td>14.220</td>\n",
       "      <td>33.444</td>\n",
       "    </tr>\n",
       "  </tbody>\n",
       "</table>\n",
       "</div>"
      ],
      "text/plain": [
       "   year  temperatura_ar  precipitacao  neve  vento  radiacao_solar  \\\n",
       "0  2024          20.170         0.000   0.0  3.156         323.479   \n",
       "1  2023          25.783         0.419   0.0  0.504         161.660   \n",
       "2  2022          20.642         0.000   0.0  1.107         198.370   \n",
       "3  2021          22.052         1.079   0.0  1.502         165.170   \n",
       "4  2020          25.236         0.000   0.0  1.805         227.050   \n",
       "\n",
       "   umidade_do_ar  umidade_do_solo  \n",
       "0         11.368           30.950  \n",
       "1         16.513           38.571  \n",
       "2         13.480           35.340  \n",
       "3         14.828           38.695  \n",
       "4         14.220           33.444  "
      ]
     },
     "execution_count": 10,
     "metadata": {},
     "output_type": "execute_result"
    }
   ],
   "source": [
    "df = pd.DataFrame(data_json[\"dados\"])\n",
    "df"
   ]
  },
  {
   "cell_type": "code",
   "execution_count": 11,
   "id": "30eb923d",
   "metadata": {},
   "outputs": [],
   "source": [
    "def compute_weather_stats(history_json: dict,\n",
    "                                          rain_thresh: float = 0.1,\n",
    "                                          snow_thresh: float = 0.1):\n",
    "    \"\"\"\n",
    "    Calcula médias e probabilidades usando limiares:\n",
    "      - probabilidade de chuva = fração de anos com precipitacao >= rain_thresh (mm/h)\n",
    "      - probabilidade de neve  = fração de anos com neve        >= snow_thresh (mm/h)\n",
    "    Para variáveis contínuas (temp, vento, radiação, umidade_ar, umidade_solo),\n",
    "    só retorna média (prob = None).\n",
    "    \"\"\"\n",
    "    df = pd.DataFrame(history_json[\"dados\"])\n",
    "    stats = {}\n",
    "    total = len(df)\n",
    "\n",
    "    def mean_or_none(series):\n",
    "        s = series.dropna()\n",
    "        return round(float(s.mean()), 3) if len(s) else None\n",
    "\n",
    "    # --- MÉDIAS ---\n",
    "    stats[\"temperatura_ar\"] = {\"media\": mean_or_none(df.get(\"temperatura_ar\", pd.Series(dtype=float))), \"prob\": None}\n",
    "    stats[\"vento\"]          = {\"media\": mean_or_none(df.get(\"vento\", pd.Series(dtype=float))),           \"prob\": None}\n",
    "    stats[\"radiacao_solar\"] = {\"media\": mean_or_none(df.get(\"radiacao_solar\", pd.Series(dtype=float))), \"prob\": None}\n",
    "    stats[\"umidade_do_ar\"]  = {\"media\": mean_or_none(df.get(\"umidade_do_ar\", pd.Series(dtype=float))),  \"prob\": None}\n",
    "    stats[\"umidade_do_solo\"]= {\"media\": mean_or_none(df.get(\"umidade_do_solo\", pd.Series(dtype=float))),\"prob\": None}\n",
    "\n",
    "    # --- PROBABILIDADES COM LIMIAR ---\n",
    "    # Chuva\n",
    "    rain_series = df.get(\"precipitacao\", pd.Series(dtype=float)).dropna()\n",
    "    rain_hits = int((rain_series >= rain_thresh).sum()) if len(rain_series) else 0\n",
    "    rain_prob = round(rain_hits / total, 2) if total else None\n",
    "    stats[\"precipitacao\"] = {\n",
    "        \"media\": mean_or_none(rain_series),\n",
    "        \"prob\": rain_prob,\n",
    "        \"ocorrencias\": rain_hits,\n",
    "        \"amostras\": total,\n",
    "        \"limiar_mm_h\": rain_thresh\n",
    "    }\n",
    "\n",
    "    # Neve\n",
    "    snow_series = df.get(\"neve\", pd.Series(dtype=float)).dropna()\n",
    "    snow_hits = int((snow_series >= snow_thresh).sum()) if len(snow_series) else 0\n",
    "    snow_prob = round(snow_hits / total, 2) if total else None\n",
    "    stats[\"neve\"] = {\n",
    "        \"media\": mean_or_none(snow_series),\n",
    "        \"prob\": snow_prob,\n",
    "        \"ocorrencias\": snow_hits,\n",
    "        \"amostras\": total,\n",
    "        \"limiar_mm_h\": snow_thresh\n",
    "    }\n",
    "\n",
    "    return {\n",
    "        \"lat\": history_json[\"lat\"],\n",
    "        \"lon\": history_json[\"lon\"],\n",
    "        \"estatisticas\": stats\n",
    "    }\n"
   ]
  },
  {
   "cell_type": "code",
   "execution_count": 12,
   "id": "3c1212c7",
   "metadata": {},
   "outputs": [
    {
     "data": {
      "text/plain": [
       "{'lat': -22.875,\n",
       " 'lon': -43.125,\n",
       " 'estatisticas': {'temperatura_ar': {'media': 22.777, 'prob': None},\n",
       "  'vento': {'media': 1.615, 'prob': None},\n",
       "  'radiacao_solar': {'media': 215.146, 'prob': None},\n",
       "  'umidade_do_ar': {'media': 14.082, 'prob': None},\n",
       "  'umidade_do_solo': {'media': 35.4, 'prob': None},\n",
       "  'precipitacao': {'media': 0.3,\n",
       "   'prob': 0.4,\n",
       "   'ocorrencias': 2,\n",
       "   'amostras': 5,\n",
       "   'limiar_mm_h': 0.1},\n",
       "  'neve': {'media': 0.0,\n",
       "   'prob': 0.0,\n",
       "   'ocorrencias': 0,\n",
       "   'amostras': 5,\n",
       "   'limiar_mm_h': 0.1}}}"
      ]
     },
     "execution_count": 12,
     "metadata": {},
     "output_type": "execute_result"
    }
   ],
   "source": [
    "compute_weather_stats(data_json)"
   ]
  },
  {
   "cell_type": "code",
   "execution_count": 13,
   "id": "bba6be69",
   "metadata": {},
   "outputs": [],
   "source": [
    "def summarize_weather(stats_json):\n",
    "    \"\"\"\n",
    "    Gera um resumo textual geral das condições climáticas com base nas médias e probabilidades\n",
    "    do histórico, incluindo as unidades de medida para melhor contexto físico.\n",
    "    \"\"\"\n",
    "    genai.configure(api_key=os.getenv(\"GOOGLE_API_KEY\"))\n",
    "    model = genai.GenerativeModel(\"gemini-2.5-flash\")\n",
    "\n",
    "    # --- monta prompt humanizado e descritivo ---\n",
    "    prompt = f\"\"\"\n",
    "    Gere um resumo breve (2 a 3 frases) com linguagem leve e humana,\n",
    "    descrevendo as condições climáticas gerais com base nas médias e probabilidades abaixo.\n",
    "\n",
    "    O texto deve soar como uma previsão do tempo cotidiana,\n",
    "    sem mencionar coordenadas geográficas nem termos técnicos.\n",
    "\n",
    "    Unidades das variáveis:\n",
    "    - temperatura_ar: °C\n",
    "    - precipitacao e neve: mm/h\n",
    "    - vento: m/s\n",
    "    - radiacao_solar: W/m²\n",
    "    - umidade_do_ar: g/kg\n",
    "    - umidade_do_solo: kg/m²\n",
    "\n",
    "    Dados:\n",
    "    {stats_json['estatisticas']}\n",
    "\n",
    "    Instruções:\n",
    "    - Fale de forma natural e positiva, como um boletim informal.\n",
    "    - Resuma temperatura, chuva, vento e umidade de modo compreensível.\n",
    "    - Se a chance de chuva for baixa, diga que o tempo está bom para atividades ao ar livre.\n",
    "    - Se for alta, comente sobre possibilidade de chuva e clima úmido.\n",
    "    - Use tom acolhedor, fluido e humano.\n",
    "    \"\"\"\n",
    "\n",
    "    response = model.generate_content(prompt)\n",
    "    return response.text.strip()\n"
   ]
  },
  {
   "cell_type": "code",
   "execution_count": 14,
   "id": "a381eefb",
   "metadata": {},
   "outputs": [
    {
     "data": {
      "text/plain": [
       "'O dia promete ser super agradável, com temperaturas amenas por volta dos 18 graus e uma brisa leve refrescando o ambiente. A chance de chuva é bem pequena, então aproveite para curtir o tempo ao ar livre, com o ar um pouco mais sequinho!'"
      ]
     },
     "execution_count": 14,
     "metadata": {},
     "output_type": "execute_result"
    }
   ],
   "source": [
    "summarize_weather(compute_weather_stats(data_json))"
   ]
  }
 ],
 "metadata": {
  "kernelspec": {
   "display_name": "Python 3",
   "language": "python",
   "name": "python3"
  },
  "language_info": {
   "codemirror_mode": {
    "name": "ipython",
    "version": 3
   },
   "file_extension": ".py",
   "mimetype": "text/x-python",
   "name": "python",
   "nbconvert_exporter": "python",
   "pygments_lexer": "ipython3",
   "version": "3.13.7"
  }
 },
 "nbformat": 4,
 "nbformat_minor": 5
}
